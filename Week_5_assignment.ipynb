{
  "nbformat": 4,
  "nbformat_minor": 0,
  "metadata": {
    "colab": {
      "provenance": [],
      "authorship_tag": "ABX9TyM5VCoIF3ji0XUhNVh9kB4f",
      "include_colab_link": true
    },
    "kernelspec": {
      "name": "python3",
      "display_name": "Python 3"
    },
    "language_info": {
      "name": "python"
    }
  },
  "cells": [
    {
      "cell_type": "markdown",
      "metadata": {
        "id": "view-in-github",
        "colab_type": "text"
      },
      "source": [
        "<a href=\"https://colab.research.google.com/github/07065466095/07065466095/blob/main/Week_5_assignment.ipynb\" target=\"_parent\"><img src=\"https://colab.research.google.com/assets/colab-badge.svg\" alt=\"Open In Colab\"/></a>"
      ]
    },
    {
      "cell_type": "code",
      "execution_count": null,
      "metadata": {
        "id": "aLpyF3x8lu32"
      },
      "outputs": [],
      "source": []
    },
    {
      "cell_type": "markdown",
      "source": [
        "Importing datafram"
      ],
      "metadata": {
        "id": "Jk6IGyiPlv-m"
      }
    },
    {
      "cell_type": "code",
      "source": [
        "\n",
        "import pandas as pd\n",
        "\n",
        "# create a dataframe\n",
        "data = {'Name': ['John', 'Alice', 'Bob', 'Emma', 'Mike', 'Sarah', 'David', 'Linda', 'Tom', 'Emily'],\n",
        "        'Age': [25, 30, 35, 28, 32, 27, 40, 33, 29, 31],\n",
        "        'City': ['New York', 'Paris', 'London', 'dutse', 'fagoji', 'Berlin', 'Rome', 'Madrid', 'kano', 'Moscow']}\n",
        "df = pd.DataFrame(data)\n",
        "\n",
        "# display the first three rows\n",
        "print('First Three Rows:')\n",
        "print(df.head(3))\n",
        "print()\n",
        "\n",
        "# display the first five rows\n",
        "print('First Five Rows:')\n",
        "print(df.head())"
      ],
      "metadata": {
        "colab": {
          "base_uri": "https://localhost:8080/"
        },
        "id": "8G6fyXJgou8x",
        "outputId": "f670d987-7072-47b9-fcbc-ad85bee818e1"
      },
      "execution_count": 15,
      "outputs": [
        {
          "output_type": "stream",
          "name": "stdout",
          "text": [
            "First Three Rows:\n",
            "    Name  Age      City\n",
            "0   John   25  New York\n",
            "1  Alice   30     Paris\n",
            "2    Bob   35    London\n",
            "\n",
            "First Five Rows:\n",
            "    Name  Age      City\n",
            "0   John   25  New York\n",
            "1  Alice   30     Paris\n",
            "2    Bob   35    London\n",
            "3   Emma   28     dutse\n",
            "4   Mike   32    fagoji\n"
          ]
        }
      ]
    }
  ]
}