{
  "nbformat": 4,
  "nbformat_minor": 0,
  "metadata": {
    "colab": {
      "provenance": [],
      "authorship_tag": "ABX9TyOuNKSr9a8kZ/hJ63mW3fRj",
      "include_colab_link": true
    },
    "kernelspec": {
      "name": "python3",
      "display_name": "Python 3"
    },
    "language_info": {
      "name": "python"
    }
  },
  "cells": [
    {
      "cell_type": "markdown",
      "metadata": {
        "id": "view-in-github",
        "colab_type": "text"
      },
      "source": [
        "<a href=\"https://colab.research.google.com/github/07065466095/07065466095/blob/main/3_mtt_week_4_Assignment.ipynb\" target=\"_parent\"><img src=\"https://colab.research.google.com/assets/colab-badge.svg\" alt=\"Open In Colab\"/></a>"
      ]
    },
    {
      "cell_type": "code",
      "execution_count": null,
      "metadata": {
        "id": "H6UmSJKyOITP"
      },
      "outputs": [],
      "source": []
    },
    {
      "cell_type": "markdown",
      "source": [
        "Hello world"
      ],
      "metadata": {
        "id": "HJCJ40fJOJys"
      }
    },
    {
      "cell_type": "code",
      "source": [
        "# The following python script will print the text \"Hello World!\" as output.\n",
        "\n",
        "print(\"Hello World!\")"
      ],
      "metadata": {
        "colab": {
          "base_uri": "https://localhost:8080/"
        },
        "id": "ikK_eO-fON8N",
        "outputId": "c4db1967-0d4a-425c-8863-d7d8da49f904"
      },
      "execution_count": null,
      "outputs": [
        {
          "output_type": "stream",
          "name": "stdout",
          "text": [
            "Hello World!\n"
          ]
        }
      ]
    },
    {
      "cell_type": "markdown",
      "source": [
        "Joint two string"
      ],
      "metadata": {
        "id": "YnyHPlwlO3xP"
      }
    },
    {
      "cell_type": "code",
      "source": [
        "# Two words \"Programming\" and \"Languages\" are joined and \"ProgrammingLanguages\" is printed as output.\n",
        "\n",
        "\n",
        "x = \"Programming\"\n",
        "y = \"Languages\"\n",
        "z = x + y\n",
        "print(z)"
      ],
      "metadata": {
        "colab": {
          "base_uri": "https://localhost:8080/"
        },
        "id": "DO6rVv4NPBUd",
        "outputId": "8d59800b-2b45-4c37-de8a-ec06f4ee4b3c"
      },
      "execution_count": null,
      "outputs": [
        {
          "output_type": "stream",
          "name": "stdout",
          "text": [
            "ProgrammingLanguages\n"
          ]
        }
      ]
    },
    {
      "cell_type": "markdown",
      "source": [
        "Format floating point in the string"
      ],
      "metadata": {
        "id": "lkvIdoefPhei"
      }
    },
    {
      "cell_type": "code",
      "source": [
        "# Use of String Formatting\n",
        "x = 462.75897\n",
        "print(\"{:5.2f}\".format(x))\n",
        "\n",
        "# Use of String Interpolation\n",
        "y = 462.75897\n",
        "print(\"%5.2f\" % y)"
      ],
      "metadata": {
        "colab": {
          "base_uri": "https://localhost:8080/"
        },
        "id": "OI2uo94zPtd1",
        "outputId": "97e361cf-de11-4584-e3d8-536361951c5d"
      },
      "execution_count": null,
      "outputs": [
        {
          "output_type": "stream",
          "name": "stdout",
          "text": [
            "462.76\n",
            "462.76\n"
          ]
        }
      ]
    }
  ]
}